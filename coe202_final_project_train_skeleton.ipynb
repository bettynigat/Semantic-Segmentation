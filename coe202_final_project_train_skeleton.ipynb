{
  "nbformat": 4,
  "nbformat_minor": 0,
  "metadata": {
    "accelerator": "GPU",
    "colab": {
      "name": "coe202_final_project_train_skeleton.ipynb",
      "provenance": [],
      "collapsed_sections": []
    },
    "kernelspec": {
      "display_name": "Python 3",
      "name": "python3"
    },
    "language_info": {
      "codemirror_mode": {
        "name": "ipython",
        "version": 3
      },
      "file_extension": ".py",
      "mimetype": "text/x-python",
      "name": "python",
      "nbconvert_exporter": "python",
      "pygments_lexer": "ipython3",
      "version": "3.7.4-final"
    },
    "widgets": {
      "application/vnd.jupyter.widget-state+json": {
        "4fe16465607649fbbe01d034c7a79c80": {
          "model_module": "@jupyter-widgets/controls",
          "model_name": "HBoxModel",
          "model_module_version": "1.5.0",
          "state": {
            "_view_name": "HBoxView",
            "_dom_classes": [],
            "_model_name": "HBoxModel",
            "_view_module": "@jupyter-widgets/controls",
            "_model_module_version": "1.5.0",
            "_view_count": null,
            "_view_module_version": "1.5.0",
            "box_style": "",
            "layout": "IPY_MODEL_261be3191c844ba59ef5587a437a1a78",
            "_model_module": "@jupyter-widgets/controls",
            "children": [
              "IPY_MODEL_0f648daa4a204cc1a787666368ced213",
              "IPY_MODEL_e0d1299952414c05b262b676018b5b56"
            ]
          }
        },
        "261be3191c844ba59ef5587a437a1a78": {
          "model_module": "@jupyter-widgets/base",
          "model_name": "LayoutModel",
          "model_module_version": "1.2.0",
          "state": {
            "_view_name": "LayoutView",
            "grid_template_rows": null,
            "right": null,
            "justify_content": null,
            "_view_module": "@jupyter-widgets/base",
            "overflow": null,
            "_model_module_version": "1.2.0",
            "_view_count": null,
            "flex_flow": null,
            "width": null,
            "min_width": null,
            "border": null,
            "align_items": null,
            "bottom": null,
            "_model_module": "@jupyter-widgets/base",
            "top": null,
            "grid_column": null,
            "overflow_y": null,
            "overflow_x": null,
            "grid_auto_flow": null,
            "grid_area": null,
            "grid_template_columns": null,
            "flex": null,
            "_model_name": "LayoutModel",
            "justify_items": null,
            "grid_row": null,
            "max_height": null,
            "align_content": null,
            "visibility": null,
            "align_self": null,
            "height": null,
            "min_height": null,
            "padding": null,
            "grid_auto_rows": null,
            "grid_gap": null,
            "max_width": null,
            "order": null,
            "_view_module_version": "1.2.0",
            "grid_template_areas": null,
            "object_position": null,
            "object_fit": null,
            "grid_auto_columns": null,
            "margin": null,
            "display": null,
            "left": null
          }
        },
        "0f648daa4a204cc1a787666368ced213": {
          "model_module": "@jupyter-widgets/controls",
          "model_name": "FloatProgressModel",
          "model_module_version": "1.5.0",
          "state": {
            "_view_name": "ProgressView",
            "style": "IPY_MODEL_4c03143073224f5a97f55422bdbe84a2",
            "_dom_classes": [],
            "description": "100%",
            "_model_name": "FloatProgressModel",
            "bar_style": "success",
            "max": 400,
            "_view_module": "@jupyter-widgets/controls",
            "_model_module_version": "1.5.0",
            "value": 400,
            "_view_count": null,
            "_view_module_version": "1.5.0",
            "orientation": "horizontal",
            "min": 0,
            "description_tooltip": null,
            "_model_module": "@jupyter-widgets/controls",
            "layout": "IPY_MODEL_90e9e0efa3ad42af921df2999a7f03e6"
          }
        },
        "e0d1299952414c05b262b676018b5b56": {
          "model_module": "@jupyter-widgets/controls",
          "model_name": "HTMLModel",
          "model_module_version": "1.5.0",
          "state": {
            "_view_name": "HTMLView",
            "style": "IPY_MODEL_316d3dad456d4329a447979928ad5b55",
            "_dom_classes": [],
            "description": "",
            "_model_name": "HTMLModel",
            "placeholder": "​",
            "_view_module": "@jupyter-widgets/controls",
            "_model_module_version": "1.5.0",
            "value": " 400/400 [7:25:59&lt;00:00, 66.90s/it]",
            "_view_count": null,
            "_view_module_version": "1.5.0",
            "description_tooltip": null,
            "_model_module": "@jupyter-widgets/controls",
            "layout": "IPY_MODEL_c1da6075a9c64db6b92019a62ad25f08"
          }
        },
        "4c03143073224f5a97f55422bdbe84a2": {
          "model_module": "@jupyter-widgets/controls",
          "model_name": "ProgressStyleModel",
          "model_module_version": "1.5.0",
          "state": {
            "_view_name": "StyleView",
            "_model_name": "ProgressStyleModel",
            "description_width": "initial",
            "_view_module": "@jupyter-widgets/base",
            "_model_module_version": "1.5.0",
            "_view_count": null,
            "_view_module_version": "1.2.0",
            "bar_color": null,
            "_model_module": "@jupyter-widgets/controls"
          }
        },
        "90e9e0efa3ad42af921df2999a7f03e6": {
          "model_module": "@jupyter-widgets/base",
          "model_name": "LayoutModel",
          "model_module_version": "1.2.0",
          "state": {
            "_view_name": "LayoutView",
            "grid_template_rows": null,
            "right": null,
            "justify_content": null,
            "_view_module": "@jupyter-widgets/base",
            "overflow": null,
            "_model_module_version": "1.2.0",
            "_view_count": null,
            "flex_flow": null,
            "width": null,
            "min_width": null,
            "border": null,
            "align_items": null,
            "bottom": null,
            "_model_module": "@jupyter-widgets/base",
            "top": null,
            "grid_column": null,
            "overflow_y": null,
            "overflow_x": null,
            "grid_auto_flow": null,
            "grid_area": null,
            "grid_template_columns": null,
            "flex": null,
            "_model_name": "LayoutModel",
            "justify_items": null,
            "grid_row": null,
            "max_height": null,
            "align_content": null,
            "visibility": null,
            "align_self": null,
            "height": null,
            "min_height": null,
            "padding": null,
            "grid_auto_rows": null,
            "grid_gap": null,
            "max_width": null,
            "order": null,
            "_view_module_version": "1.2.0",
            "grid_template_areas": null,
            "object_position": null,
            "object_fit": null,
            "grid_auto_columns": null,
            "margin": null,
            "display": null,
            "left": null
          }
        },
        "316d3dad456d4329a447979928ad5b55": {
          "model_module": "@jupyter-widgets/controls",
          "model_name": "DescriptionStyleModel",
          "model_module_version": "1.5.0",
          "state": {
            "_view_name": "StyleView",
            "_model_name": "DescriptionStyleModel",
            "description_width": "",
            "_view_module": "@jupyter-widgets/base",
            "_model_module_version": "1.5.0",
            "_view_count": null,
            "_view_module_version": "1.2.0",
            "_model_module": "@jupyter-widgets/controls"
          }
        },
        "c1da6075a9c64db6b92019a62ad25f08": {
          "model_module": "@jupyter-widgets/base",
          "model_name": "LayoutModel",
          "model_module_version": "1.2.0",
          "state": {
            "_view_name": "LayoutView",
            "grid_template_rows": null,
            "right": null,
            "justify_content": null,
            "_view_module": "@jupyter-widgets/base",
            "overflow": null,
            "_model_module_version": "1.2.0",
            "_view_count": null,
            "flex_flow": null,
            "width": null,
            "min_width": null,
            "border": null,
            "align_items": null,
            "bottom": null,
            "_model_module": "@jupyter-widgets/base",
            "top": null,
            "grid_column": null,
            "overflow_y": null,
            "overflow_x": null,
            "grid_auto_flow": null,
            "grid_area": null,
            "grid_template_columns": null,
            "flex": null,
            "_model_name": "LayoutModel",
            "justify_items": null,
            "grid_row": null,
            "max_height": null,
            "align_content": null,
            "visibility": null,
            "align_self": null,
            "height": null,
            "min_height": null,
            "padding": null,
            "grid_auto_rows": null,
            "grid_gap": null,
            "max_width": null,
            "order": null,
            "_view_module_version": "1.2.0",
            "grid_template_areas": null,
            "object_position": null,
            "object_fit": null,
            "grid_auto_columns": null,
            "margin": null,
            "display": null,
            "left": null
          }
        }
      }
    }
  },
  "cells": [
    {
      "cell_type": "markdown",
      "metadata": {
        "id": "RiDpdqsG2EW4"
      },
      "source": [
        "## **Final Project**\n",
        "**KAIST, Spring 2021**   \n",
        "**[CoE202(A)] Fundamentals of Artificial Intelligence**\n",
        "\n",
        "**Instructor: Prof. Young-Gyu Yoon**\n",
        "\n",
        "**Issue date: 2021.05.20.**    \n",
        "**Due date: 2021.06.15.**\n",
        "\n",
        "**convolutional neural network** for **semantic segmentation** of photographic images.\n",
        "\n",
        "The goal is to achieve as high as possible mean Intersection of Union(mIoU) on the test dataset\n",
        "\n",
        "This iPython notebook is the skeleton code prepared by our TAs (Changyeop Shin and Seungjae Han) for you."
      ]
    },
    {
      "cell_type": "markdown",
      "metadata": {
        "id": "kRi6nPHoQjiz"
      },
      "source": [
        "**1. Import external libraries that we want to use.**"
      ]
    },
    {
      "cell_type": "code",
      "metadata": {
        "id": "DmFrSEqT2EW5"
      },
      "source": [
        "import os\n",
        "import sys\n",
        "import time\n",
        "import datetime\n",
        "from PIL import Image\n",
        "import matplotlib.pyplot as plt\n",
        "import numpy as np\n",
        "import math\n",
        "import torch\n",
        "import torch.nn as nn\n",
        "from torchvision.utils import save_image\n",
        "import torchvision.transforms as transforms\n",
        "from tqdm.auto import tqdm\n",
        "\n",
        "\n",
        "!rm /etc/localtime\n",
        "!ln -s /usr/share/zoneinfo/Asia/Seoul /etc/localtime"
      ],
      "execution_count": null,
      "outputs": []
    },
    {
      "cell_type": "markdown",
      "metadata": {
        "id": "6u_AeG9pQlHB"
      },
      "source": [
        "**2. Mount the google drive.**"
      ]
    },
    {
      "cell_type": "code",
      "metadata": {
        "colab": {
          "base_uri": "https://localhost:8080/"
        },
        "id": "bkTIgoexPBxA",
        "outputId": "4013de58-8e7f-40a1-9267-63a7f79f0a30"
      },
      "source": [
        "from google.colab import drive\n",
        "drive.mount(\"/content/drive\")\n",
        "\n",
        "# Autoreload in case that the custom modules are changed\n",
        "%load_ext autoreload\n",
        "%autoreload 2"
      ],
      "execution_count": null,
      "outputs": [
        {
          "output_type": "stream",
          "text": [
            "Mounted at /content/drive\n"
          ],
          "name": "stdout"
        }
      ]
    },
    {
      "cell_type": "markdown",
      "metadata": {
        "id": "YmieVuvEQoxj"
      },
      "source": [
        "**3. Import custom modules.\n",
        "Below is a list of python modules that contain useful functions.**\n",
        "\n",
        "**You need to make sure that you upload the files on 'filepath'.**\n",
        "\n",
        "*  **util.py** : dataloader, mIoU calculator, transform functions.\n",
        "*  **model_baseline.py**: semantic segmentation model."
      ]
    },
    {
      "cell_type": "code",
      "metadata": {
        "id": "pt-SFEkWOq5Y"
      },
      "source": [
        "filepath = \"/content/drive/MyDrive/Machine_learning/Final_project\" # indicate path of workspace, change the path suited to your Google drive setting\n",
        "sys.path.append(filepath)\n",
        "\n",
        "from util import *\n",
        "from model_baseline import *"
      ],
      "execution_count": null,
      "outputs": []
    },
    {
      "cell_type": "markdown",
      "metadata": {
        "id": "ONwMGREURl73"
      },
      "source": [
        "# New Section"
      ]
    },
    {
      "cell_type": "code",
      "metadata": {
        "id": "N8E2bajjRigT"
      },
      "source": [
        ""
      ],
      "execution_count": null,
      "outputs": []
    },
    {
      "cell_type": "markdown",
      "metadata": {
        "id": "CJPjHWrpRjGH"
      },
      "source": [
        ""
      ]
    },
    {
      "cell_type": "markdown",
      "metadata": {
        "id": "8DYeQoytOuAc"
      },
      "source": [
        "**4. Unzip the compressed data file (.zip).**"
      ]
    },
    {
      "cell_type": "code",
      "metadata": {
        "colab": {
          "base_uri": "https://localhost:8080/"
        },
        "id": "wqG-otp75ztu",
        "outputId": "ea0c3a39-5d58-4c0e-b9f6-b5c0653bd6cd"
      },
      "source": [
        "# Check the current filepath and file lists in there\n",
        "%cd $filepath \n",
        "!pwd \n",
        "!ls \n",
        "![ -d \"CoE202Spring_finalproject_dataset\" ] &&  echo \"Directory $d found.\" || unzip -q CoE202Spring_finalproject_dataset.zip # once you unzip, then do not again\n",
        "!ls"
      ],
      "execution_count": null,
      "outputs": [
        {
          "output_type": "stream",
          "text": [
            "/content/drive/MyDrive/Machine_learning/Final_project\n",
            "/content/drive/MyDrive/Machine_learning/Final_project\n",
            "coe202_final_project_train_skeleton.ipynb  model_baseline.py  util.py\n",
            "CoE202Spring_finalproject_dataset.zip\t   __pycache__\n",
            "coe202_final_project_train_skeleton.ipynb  model_baseline.py\n",
            "CoE202Spring_finalproject_dataset\t   __pycache__\n",
            "CoE202Spring_finalproject_dataset.zip\t   util.py\n"
          ],
          "name": "stdout"
        }
      ]
    },
    {
      "cell_type": "markdown",
      "metadata": {
        "id": "o1l4KAsZVFgE"
      },
      "source": [
        "**5. Define arguments such as hyper-parameters, environment variables.**"
      ]
    },
    {
      "cell_type": "code",
      "metadata": {
        "id": "3LbNy03b3_ka"
      },
      "source": [
        "n_epoch = 400 # number of training epochs\n",
        "batch_size = 32\n",
        "learning_rate = 5*1e-4\n",
        "crop_size = 128\n",
        "experiment = \"exp_colab\"  # the name of experiment to save your model and optimizer.\n",
        "\n",
        "# Make directories for saving outcomes of experiment\n",
        "os.makedirs(f\"{filepath}/{experiment}\", exist_ok=True)\n",
        "os.makedirs(f\"{filepath}/results/training\", exist_ok=True)\n",
        "os.makedirs(f\"{filepath}/results/validation\", exist_ok=True)"
      ],
      "execution_count": null,
      "outputs": []
    },
    {
      "cell_type": "markdown",
      "metadata": {
        "id": "vTvWBCtObL9L"
      },
      "source": [
        "6.00 Augmentation"
      ]
    },
    {
      "cell_type": "code",
      "metadata": {
        "id": "Ao7fi7NEbN7N"
      },
      "source": [
        "dataAugment(root=f\"{filepath}/CoE202Spring_finalproject_dataset\")"
      ],
      "execution_count": null,
      "outputs": []
    },
    {
      "cell_type": "markdown",
      "metadata": {
        "id": "ViTBzz6jUGM0"
      },
      "source": [
        "**6. Load training and validation datasets with data transform functions.**"
      ]
    },
    {
      "cell_type": "code",
      "metadata": {
        "colab": {
          "base_uri": "https://localhost:8080/"
        },
        "id": "XNIOAPoU2EW9",
        "outputId": "8ee99e70-7ad7-46dd-9c8d-8e8ac2046cb1"
      },
      "source": [
        "# Class information\n",
        "classes = ['background',\n",
        "'aeroplane',\n",
        "'bicycle',\n",
        "'boat',\n",
        "'bus',\n",
        "'car',\n",
        "'motorbike',\n",
        "'person',\n",
        "'train',\n",
        "'boundary'] # For convenience, the classes are denoted as corresponding indexes (0~9) in this project\n",
        "# Notice that the boundary class (index : 9) is ignored to evaluate mIoU!\n",
        "\n",
        "color_transform = Colorize() # mapping probability maps to color maps\n",
        "\n",
        "\n",
        "# You can modify custom transform functions\n",
        "custom_transform = []\n",
        "\n",
        "# Don't change input_transform, target_transform\n",
        "input_transform = [transforms.ToTensor()]\n",
        "\n",
        "target_transform = [ToLabel(),\n",
        "    Relabel(4, 3),\n",
        "    Relabel(6, 4),\n",
        "    Relabel(7, 5),\n",
        "    Relabel(14, 6),\n",
        "    Relabel(15, 7),\n",
        "    Relabel(19, 8),\n",
        "    Relabel(255, 9),\n",
        "]\n",
        "\n",
        "input_transform = transforms.Compose(input_transform)\n",
        "target_transform = transforms.Compose(target_transform)\n",
        "\n",
        "dataset = CoE_Dataset(root=f\"{filepath}/CoE202Spring_finalproject_dataset\",\n",
        "                input_transform=input_transform,\n",
        "                target_transform=target_transform, train=True)\n",
        "\n",
        "#dataset = CoE_Test_Dataset(root=f\"{filepath}/CoE202Spring_finalproject_test_dataset\", # root should be the path of your test dataset\n",
        "                #input_transform=input_transform)\n",
        "print('Total number of images : {}'.format(len(dataset)))\n",
        "\n",
        "# ------------\n",
        "# Load dataset\n",
        "# ------------\n",
        "\n",
        "# You can change dataset spliting/loading strategies\n",
        "n_train = math.floor(0.9*len(dataset)) # (default) 90% of the data for training\n",
        "n_val = len(dataset) - math.floor(0.9*len(dataset)) # (default) 10% of the data for validation\n",
        "\n",
        "train_dataset, valid_dataset = torch.utils.data.random_split(dataset, [n_train, n_val])\n",
        "\n",
        "train_loader = torch.utils.data.DataLoader(train_dataset,\n",
        "                                        batch_size=batch_size,\n",
        "                                        shuffle=True,\n",
        "                                        drop_last=True\n",
        "                                        )\n",
        "valid_loader = torch.utils.data.DataLoader(valid_dataset,\n",
        "                                        batch_size=batch_size,\n",
        "                                        shuffle=False,\n",
        "                                        drop_last=True\n",
        "                                        )\n",
        "\n",
        "# Print the size of image/mask and unique classes (0~9)\n",
        "img, mask, _ = next(iter(train_loader))\n",
        "print('image & mask size : {}, {}'.format(img.size(), mask.size())) # size of the image and mask\n",
        "print(torch.unique(mask)) # unique classes"
      ],
      "execution_count": null,
      "outputs": [
        {
          "output_type": "stream",
          "text": [
            "Total number of images : 5000\n",
            "image & mask size : torch.Size([32, 3, 128, 128]), torch.Size([32, 1, 128, 128])\n",
            "tensor([0, 1, 2, 3, 4, 5, 6, 7, 8, 9])\n"
          ],
          "name": "stdout"
        }
      ]
    },
    {
      "cell_type": "markdown",
      "metadata": {
        "id": "4cPho67MU0t8"
      },
      "source": [
        "**7. Glance at some sample data.**\n",
        "\n",
        "As the 1st step of learning process, it's indispensable to understand input data.\n",
        "\n",
        "Then, we can get some hints for designing the network and training scheme."
      ]
    },
    {
      "cell_type": "code",
      "metadata": {
        "id": "r4WWhNzp79_j",
        "colab": {
          "base_uri": "https://localhost:8080/",
          "height": 53
        },
        "outputId": "4280478c-6c75-4bd1-c094-9546f5eb9665"
      },
      "source": [
        "(sample_batch, sample_label, _) = next(iter(train_loader))\n",
        "\n",
        "fig = plt.figure(figsize=(12, 14))\n",
        "for i in range(2):\n",
        "    for j in range(0):\n",
        "        fig.add_subplot(4, 4, (i * 4 + j * 2 + 1))\n",
        "        plt.imshow(sample_batch[i*4+j].permute(1, 2, 0))\n",
        "        classes_name = [classes[index] for index in torch.unique(sample_label[i*4+j]) if not index == 9]\n",
        "        plt.title('class : ' + str(classes_name))\n",
        "        fig.add_subplot(4, 4, (i * 4 + j * 2 + 1+ 1))\n",
        "        plt.imshow(color_transform(sample_label[i*4+j]).permute(1, 2, 0))\n",
        "plt.suptitle(\"Sample images\")"
      ],
      "execution_count": null,
      "outputs": [
        {
          "output_type": "execute_result",
          "data": {
            "text/plain": [
              "Text(0.5, 0.98, 'Sample images')"
            ]
          },
          "metadata": {
            "tags": []
          },
          "execution_count": 8
        },
        {
          "output_type": "display_data",
          "data": {
            "text/plain": [
              "<Figure size 864x1008 with 0 Axes>"
            ]
          },
          "metadata": {
            "tags": []
          }
        }
      ]
    },
    {
      "cell_type": "markdown",
      "metadata": {
        "id": "lPsy-FWZTpvA"
      },
      "source": [
        "**8. Set-up the training environment (model, loss function, optimizer, etc).**\n"
      ]
    },
    {
      "cell_type": "code",
      "metadata": {
        "id": "t9d9D7Ki2EW7"
      },
      "source": [
        "# You can modify the loss, the model and the optimizer\n",
        "criterion = nn.CrossEntropyLoss(ignore_index=9).cuda() # Ignore the index 9 indiciating 'boundaries' for calculating loss\n",
        "model = UNet().cuda()\n",
        "optim = torch.optim.Adam(model.parameters(), lr = learning_rate)\n",
        " ㅜㅠㅍ\n",
        "\n",
        "best_model_state, best_optim_state = None, None\n",
        "latest_model_state, latest_optim_state = None, None"
      ],
      "execution_count": null,
      "outputs": []
    },
    {
      "cell_type": "markdown",
      "metadata": {
        "id": "pG07e6piUqD0"
      },
      "source": [
        "**9. Check your segmentation network.**\n",
        "\n",
        "You can define your own network in **model_baseline.py.** "
      ]
    },
    {
      "cell_type": "code",
      "metadata": {
        "colab": {
          "base_uri": "https://localhost:8080/"
        },
        "id": "p44ATVYX6UqB",
        "outputId": "d3cc0182-4e5e-4b6a-a171-733eb92d17b7"
      },
      "source": [
        "print('The network architecture is as follows.')\n",
        "print(model)"
      ],
      "execution_count": null,
      "outputs": [
        {
          "output_type": "stream",
          "text": [
            "The network architecture is as follows.\n",
            "UNet(\n",
            "  (dec1): UNetDec(\n",
            "    (down): Sequential(\n",
            "      (0): Conv2d(3, 64, kernel_size=(3, 3), stride=(1, 1), padding=(1, 1))\n",
            "      (1): ReLU(inplace=True)\n",
            "      (2): BatchNorm2d(64, eps=1e-05, momentum=0.99, affine=True, track_running_stats=False)\n",
            "      (3): Conv2d(64, 64, kernel_size=(3, 3), stride=(1, 1), padding=(1, 1))\n",
            "      (4): ReLU(inplace=True)\n",
            "      (5): MaxPool2d(kernel_size=2, stride=2, padding=0, dilation=1, ceil_mode=True)\n",
            "    )\n",
            "  )\n",
            "  (dec2): UNetDec(\n",
            "    (down): Sequential(\n",
            "      (0): Conv2d(64, 128, kernel_size=(3, 3), stride=(1, 1), padding=(1, 1))\n",
            "      (1): ReLU(inplace=True)\n",
            "      (2): BatchNorm2d(128, eps=1e-05, momentum=0.99, affine=True, track_running_stats=False)\n",
            "      (3): Conv2d(128, 128, kernel_size=(3, 3), stride=(1, 1), padding=(1, 1))\n",
            "      (4): ReLU(inplace=True)\n",
            "      (5): MaxPool2d(kernel_size=2, stride=2, padding=0, dilation=1, ceil_mode=True)\n",
            "    )\n",
            "  )\n",
            "  (dec3): UNetDec(\n",
            "    (down): Sequential(\n",
            "      (0): Conv2d(128, 256, kernel_size=(3, 3), stride=(1, 1), padding=(1, 1))\n",
            "      (1): ReLU(inplace=True)\n",
            "      (2): BatchNorm2d(256, eps=1e-05, momentum=0.99, affine=True, track_running_stats=False)\n",
            "      (3): Conv2d(256, 256, kernel_size=(3, 3), stride=(1, 1), padding=(1, 1))\n",
            "      (4): ReLU(inplace=True)\n",
            "      (5): Dropout(p=0.5, inplace=False)\n",
            "      (6): MaxPool2d(kernel_size=2, stride=2, padding=0, dilation=1, ceil_mode=True)\n",
            "    )\n",
            "  )\n",
            "  (center): Sequential(\n",
            "    (0): Conv2d(256, 512, kernel_size=(3, 3), stride=(1, 1))\n",
            "    (1): ReLU(inplace=True)\n",
            "    (2): Conv2d(512, 512, kernel_size=(3, 3), stride=(1, 1))\n",
            "    (3): ReLU(inplace=True)\n",
            "    (4): Dropout(p=0.5, inplace=False)\n",
            "    (5): ConvTranspose2d(512, 256, kernel_size=(2, 2), stride=(2, 2))\n",
            "    (6): ReLU(inplace=True)\n",
            "  )\n",
            "  (enc3): UNetEnc(\n",
            "    (up): Sequential(\n",
            "      (0): Conv2d(512, 256, kernel_size=(3, 3), stride=(1, 1), padding=(1, 1))\n",
            "      (1): ReLU(inplace=True)\n",
            "      (2): BatchNorm2d(256, eps=1e-05, momentum=0.99, affine=True, track_running_stats=False)\n",
            "      (3): Conv2d(256, 256, kernel_size=(3, 3), stride=(1, 1), padding=(1, 1))\n",
            "      (4): ReLU(inplace=True)\n",
            "      (5): ConvTranspose2d(256, 128, kernel_size=(2, 2), stride=(2, 2))\n",
            "      (6): ReLU(inplace=True)\n",
            "    )\n",
            "  )\n",
            "  (enc2): UNetEnc(\n",
            "    (up): Sequential(\n",
            "      (0): Conv2d(256, 128, kernel_size=(3, 3), stride=(1, 1), padding=(1, 1))\n",
            "      (1): ReLU(inplace=True)\n",
            "      (2): BatchNorm2d(128, eps=1e-05, momentum=0.99, affine=True, track_running_stats=False)\n",
            "      (3): Conv2d(128, 128, kernel_size=(3, 3), stride=(1, 1), padding=(1, 1))\n",
            "      (4): ReLU(inplace=True)\n",
            "      (5): ConvTranspose2d(128, 64, kernel_size=(2, 2), stride=(2, 2))\n",
            "      (6): ReLU(inplace=True)\n",
            "    )\n",
            "  )\n",
            "  (enc1): Sequential(\n",
            "    (0): Conv2d(128, 64, kernel_size=(3, 3), stride=(1, 1))\n",
            "    (1): ReLU(inplace=True)\n",
            "    (2): Conv2d(64, 64, kernel_size=(3, 3), stride=(1, 1))\n",
            "    (3): ReLU(inplace=True)\n",
            "  )\n",
            "  (final): Conv2d(64, 10, kernel_size=(1, 1), stride=(1, 1))\n",
            ")\n"
          ],
          "name": "stdout"
        }
      ]
    },
    {
      "cell_type": "markdown",
      "metadata": {
        "id": "1Dx-rqZsYvxk"
      },
      "source": [
        "**10. Monitor learning process in the Tensorboard.**\n",
        "\n",
        "Tensorboard is a visualization toolkit (part of tensorflow) that help us monitor the learning procedures (loss, accuracy, etc). \n",
        "\n",
        "We are using PyTorch here, but we can still use the Tensorboard!\n",
        "\n",
        "*   We will execute the Tensorboard now. At this point, we will get 'No dashboards are active for the current data set.' message, as nothing is connected to this board.\n",
        "*   In the training for-loop below, there is summary.scalar() function which writes specific scalars to the Tensorboard!\n",
        "*   You can click the refresh button in the Tensorboard, or set automatic refresh, 'Reload data' in the setting!"
      ]
    },
    {
      "cell_type": "code",
      "metadata": {
        "id": "_oKvX3v4pP4L"
      },
      "source": [
        "%load_ext tensorboard\n",
        "from tensorflow import summary\n",
        "current_time = datetime.datetime.now().strftime(\"%Y%m%d-%H%M%S\")\n",
        "summary_writer = summary.create_file_writer(f\"{filepath}/runs/{current_time}\")\n",
        "\n",
        "%tensorboard --logdir=\"{filepath}/runs\" # you can manually remove unnecessary logs in this folder"
      ],
      "execution_count": null,
      "outputs": []
    },
    {
      "cell_type": "markdown",
      "metadata": {
        "id": "v6NnjyJcViGs"
      },
      "source": [
        "**11. Train your segmentation network.**\n",
        "\n",
        "You can monitor the training procedure through the Tensorboard above."
      ]
    },
    {
      "cell_type": "code",
      "metadata": {
        "colab": {
          "base_uri": "https://localhost:8080/",
          "height": 1000,
          "referenced_widgets": [
            "4fe16465607649fbbe01d034c7a79c80",
            "261be3191c844ba59ef5587a437a1a78",
            "0f648daa4a204cc1a787666368ced213",
            "e0d1299952414c05b262b676018b5b56",
            "4c03143073224f5a97f55422bdbe84a2",
            "90e9e0efa3ad42af921df2999a7f03e6",
            "316d3dad456d4329a447979928ad5b55",
            "c1da6075a9c64db6b92019a62ad25f08"
          ]
        },
        "id": "ysX2MqYi2EW_",
        "outputId": "ca2a807b-ad33-4b34-d404-7121625fdbdc"
      },
      "source": [
        "start = time.time()\n",
        "best_mIoU = 0.0\n",
        "for epoch in tqdm(range(n_epoch)):\n",
        "    scheduler.step()\n",
        "    train_total_loss, valid_total_loss = 0.0, 0.0\n",
        "\n",
        "    # # --------------\n",
        "    # # Training step\n",
        "    # # --------------\n",
        "\n",
        "    model.train()\n",
        "\n",
        "    # Load mini-batches and do training\n",
        "    total_inter = 0\n",
        "    total_union = 0\n",
        "    # At first loading, it may be stuck for a while..\n",
        "    for _, (images, labels, _) in enumerate(train_loader):\n",
        "        images = images.cuda()\n",
        "        labels = labels.cuda()\n",
        "\n",
        "        # Predict the pixel-wise probability map indicating class prediction\n",
        "        pred = model(images)\n",
        "\n",
        "        # Calculate loss\n",
        "        loss = criterion(pred, labels[:, 0, :, :])\n",
        "        \n",
        "        # Backpropagate the loss to update network's weights\n",
        "        optim.zero_grad()\n",
        "        loss.backward()\n",
        "        optim.step()\n",
        "\n",
        "        train_total_loss += loss.item()\n",
        "        \n",
        "        # Calculate total intersection and union for each epoch\n",
        "        area_inter, area_union = batch_intersection_union(pred, labels[:, 0, :, :], 9)\n",
        "        total_inter += area_inter\n",
        "        total_union += area_union\n",
        "    train_IoU_class = total_inter / total_union # indicate the IoU for each classes(bins)\n",
        "    train_mIoU = train_IoU_class.mean().item() # indicate the mean IoU across all classes\n",
        "\n",
        "\n",
        "    # ----------------\n",
        "    # Validation step\n",
        "    # ----------------\n",
        "\n",
        "    # For validation, you do not need to calculate the gradient\n",
        "    with torch.no_grad():\n",
        "        model.eval()\n",
        "        total_inter = 0\n",
        "        total_union = 0\n",
        "        # Load mini-batches and do validation\n",
        "        for _, (images, labels, _) in enumerate(valid_loader):\n",
        "            images = images.cuda()\n",
        "            labels = labels.cuda()\n",
        "\n",
        "            pred = model(images)\n",
        "            loss = criterion(pred, labels[:, 0, :, :])\n",
        "\n",
        "            valid_total_loss += loss.item()\n",
        "\n",
        "            # Calculate total intersection and union for each epoch\n",
        "            area_inter, area_union = batch_intersection_union(pred, labels[:, 0, :, :], 9)\n",
        "            total_inter += area_inter\n",
        "            total_union += area_union\n",
        "        val_IoU_class = total_inter / total_union # indicate the IoU for each classes(bins)\n",
        "        val_mIoU = val_IoU_class.mean().item() # indicate the mean IoU across all classes\n",
        "\n",
        "        # Record the losses in forms of tensorboard scalars\n",
        "        with summary_writer.as_default():\n",
        "            summary.scalar('train_loss', train_total_loss, step=epoch)\n",
        "            summary.scalar('valid_loss', valid_total_loss, step=epoch)\n",
        "            summary.scalar('train_mIoU', train_mIoU, step=epoch)\n",
        "            summary.scalar('val_mIoU', val_mIoU, step=epoch)\n",
        "\n",
        "        # Store the latest and best accuracy models and optimizers\n",
        "        latest_model_state = model.state_dict()\n",
        "        latest_optim_state = optim.state_dict()\n",
        "        \n",
        "        if best_mIoU < val_mIoU:\n",
        "            best_mIoU = val_mIoU\n",
        "            best_model_state = model.state_dict()\n",
        "            best_optim_state = optim.state_dict()\n",
        "\n",
        "    # Print training logs and save intermediate validation results during training\n",
        "    if epoch % 10 == 0 or epoch == n_epoch - 1: \n",
        "        print(f\"\"\"\\n{time.strftime(\"%Y-%m-%d %H:%M:%S\", time.localtime())} || [{epoch}/{n_epoch}], train_loss = {train_total_loss:.4f}, valid_loss = {valid_total_loss:.4f}, train_mIoU = {train_mIoU:.4f}, val_mIoU = {val_mIoU:.4f}, , best mIoU = {best_mIoU:.4f}\"\"\")\n",
        "        stacked_imgs = torch.cat(torch.split(images, 1, dim=0), dim=3)\n",
        "        stacked_labels = torch.cat(torch.split(labels, 1, dim=0), dim=3)[0]\n",
        "        stacked_preds = torch.cat(torch.split(pred, 1, dim=0), dim=3)[0]\n",
        "        img_grid = torch.cat((stacked_imgs, color_transform(stacked_labels).unsqueeze(0).cuda(),color_transform(stacked_preds.max(0)[1].unsqueeze(0)).unsqueeze(0).cuda()), -2)\n",
        "        save_image(img_grid, \"results/training/%d.png\" % epoch, normalize=False)\n",
        "\n",
        "elapsed = time.time() - start\n",
        "print(f\"End of training, elapsed time : {elapsed // 60} min {elapsed % 60} sec.\")"
      ],
      "execution_count": null,
      "outputs": [
        {
          "output_type": "display_data",
          "data": {
            "application/vnd.jupyter.widget-view+json": {
              "model_id": "4fe16465607649fbbe01d034c7a79c80",
              "version_minor": 0,
              "version_major": 2
            },
            "text/plain": [
              "HBox(children=(FloatProgress(value=0.0, max=400.0), HTML(value='')))"
            ]
          },
          "metadata": {
            "tags": []
          }
        },
        {
          "output_type": "stream",
          "text": [
            "/usr/local/lib/python3.7/dist-packages/torch/optim/lr_scheduler.py:134: UserWarning: Detected call of `lr_scheduler.step()` before `optimizer.step()`. In PyTorch 1.1.0 and later, you should call them in the opposite order: `optimizer.step()` before `lr_scheduler.step()`.  Failure to do this will result in PyTorch skipping the first value of the learning rate schedule. See more details at https://pytorch.org/docs/stable/optim.html#how-to-adjust-learning-rate\n",
            "  \"https://pytorch.org/docs/stable/optim.html#how-to-adjust-learning-rate\", UserWarning)\n",
            "/usr/local/lib/python3.7/dist-packages/torch/nn/functional.py:3672: UserWarning: nn.functional.upsample_bilinear is deprecated. Use nn.functional.interpolate instead.\n",
            "  warnings.warn(\"nn.functional.upsample_bilinear is deprecated. Use nn.functional.interpolate instead.\")\n"
          ],
          "name": "stderr"
        },
        {
          "output_type": "stream",
          "text": [
            "\n",
            "2021-06-15 10:17:34 || [0/400], train_loss = 171.3760, valid_loss = 16.2568, train_mIoU = 0.0712, val_mIoU = 0.0720, , best mIoU = 0.0720\n",
            "\n",
            "2021-06-15 10:28:56 || [10/400], train_loss = 137.0742, valid_loss = 14.3963, train_mIoU = 0.1315, val_mIoU = 0.1335, , best mIoU = 0.1484\n",
            "\n",
            "2021-06-15 10:40:09 || [20/400], train_loss = 131.4472, valid_loss = 13.3987, train_mIoU = 0.1473, val_mIoU = 0.1692, , best mIoU = 0.1692\n",
            "\n",
            "2021-06-15 10:51:20 || [30/400], train_loss = 117.8978, valid_loss = 12.8546, train_mIoU = 0.1903, val_mIoU = 0.1940, , best mIoU = 0.2148\n",
            "\n",
            "2021-06-15 11:02:30 || [40/400], train_loss = 109.2887, valid_loss = 11.6107, train_mIoU = 0.2316, val_mIoU = 0.2411, , best mIoU = 0.2411\n",
            "\n",
            "2021-06-15 11:13:39 || [50/400], train_loss = 103.6149, valid_loss = 10.4976, train_mIoU = 0.2679, val_mIoU = 0.2684, , best mIoU = 0.2684\n",
            "\n",
            "2021-06-15 11:24:47 || [60/400], train_loss = 97.5302, valid_loss = 10.3882, train_mIoU = 0.2884, val_mIoU = 0.2745, , best mIoU = 0.2879\n",
            "\n",
            "2021-06-15 11:35:53 || [70/400], train_loss = 92.4222, valid_loss = 10.2425, train_mIoU = 0.3094, val_mIoU = 0.2953, , best mIoU = 0.3043\n",
            "\n",
            "2021-06-15 11:47:02 || [80/400], train_loss = 88.0274, valid_loss = 9.8366, train_mIoU = 0.3343, val_mIoU = 0.3212, , best mIoU = 0.3238\n",
            "\n",
            "2021-06-15 11:58:13 || [90/400], train_loss = 82.1254, valid_loss = 8.9794, train_mIoU = 0.3664, val_mIoU = 0.3360, , best mIoU = 0.3426\n",
            "\n",
            "2021-06-15 12:09:23 || [100/400], train_loss = 77.9437, valid_loss = 9.5489, train_mIoU = 0.3841, val_mIoU = 0.3335, , best mIoU = 0.3506\n",
            "\n",
            "2021-06-15 12:20:32 || [110/400], train_loss = 74.6768, valid_loss = 8.8608, train_mIoU = 0.3954, val_mIoU = 0.3746, , best mIoU = 0.3746\n",
            "\n",
            "2021-06-15 12:31:41 || [120/400], train_loss = 70.8126, valid_loss = 8.5160, train_mIoU = 0.4125, val_mIoU = 0.3668, , best mIoU = 0.3783\n",
            "\n",
            "2021-06-15 12:42:51 || [130/400], train_loss = 68.4566, valid_loss = 8.1231, train_mIoU = 0.4431, val_mIoU = 0.3884, , best mIoU = 0.3884\n",
            "\n",
            "2021-06-15 12:54:01 || [140/400], train_loss = 63.9070, valid_loss = 8.0491, train_mIoU = 0.4634, val_mIoU = 0.4057, , best mIoU = 0.4057\n",
            "\n",
            "2021-06-15 13:05:09 || [150/400], train_loss = 60.5840, valid_loss = 8.3514, train_mIoU = 0.4707, val_mIoU = 0.4005, , best mIoU = 0.4057\n",
            "\n",
            "2021-06-15 13:16:16 || [160/400], train_loss = 59.7168, valid_loss = 8.1713, train_mIoU = 0.4879, val_mIoU = 0.4098, , best mIoU = 0.4218\n",
            "\n",
            "2021-06-15 13:27:24 || [170/400], train_loss = 55.0690, valid_loss = 8.2696, train_mIoU = 0.5048, val_mIoU = 0.4116, , best mIoU = 0.4564\n",
            "\n",
            "2021-06-15 13:38:37 || [180/400], train_loss = 53.4062, valid_loss = 7.4572, train_mIoU = 0.5249, val_mIoU = 0.4611, , best mIoU = 0.4611\n",
            "\n",
            "2021-06-15 13:49:47 || [190/400], train_loss = 52.8887, valid_loss = 8.0126, train_mIoU = 0.5337, val_mIoU = 0.4192, , best mIoU = 0.4645\n",
            "\n",
            "2021-06-15 14:00:55 || [200/400], train_loss = 47.3684, valid_loss = 8.1584, train_mIoU = 0.5658, val_mIoU = 0.4221, , best mIoU = 0.4645\n",
            "\n",
            "2021-06-15 14:12:04 || [210/400], train_loss = 46.6504, valid_loss = 8.7826, train_mIoU = 0.5674, val_mIoU = 0.4191, , best mIoU = 0.4720\n",
            "\n",
            "2021-06-15 14:23:13 || [220/400], train_loss = 44.4707, valid_loss = 7.4935, train_mIoU = 0.5896, val_mIoU = 0.4575, , best mIoU = 0.4720\n",
            "\n",
            "2021-06-15 14:34:21 || [230/400], train_loss = 42.8448, valid_loss = 7.8468, train_mIoU = 0.5914, val_mIoU = 0.4347, , best mIoU = 0.4815\n",
            "\n",
            "2021-06-15 14:45:29 || [240/400], train_loss = 43.0974, valid_loss = 7.6877, train_mIoU = 0.5944, val_mIoU = 0.4582, , best mIoU = 0.4815\n",
            "\n",
            "2021-06-15 14:56:38 || [250/400], train_loss = 40.7839, valid_loss = 7.2035, train_mIoU = 0.6046, val_mIoU = 0.4615, , best mIoU = 0.4815\n",
            "\n",
            "2021-06-15 15:07:46 || [260/400], train_loss = 38.7923, valid_loss = 7.6268, train_mIoU = 0.6230, val_mIoU = 0.4488, , best mIoU = 0.4892\n",
            "\n",
            "2021-06-15 15:18:54 || [270/400], train_loss = 38.1843, valid_loss = 7.0831, train_mIoU = 0.6247, val_mIoU = 0.4898, , best mIoU = 0.4898\n",
            "\n",
            "2021-06-15 15:30:01 || [280/400], train_loss = 36.1304, valid_loss = 8.0529, train_mIoU = 0.6361, val_mIoU = 0.4597, , best mIoU = 0.4991\n",
            "\n",
            "2021-06-15 15:41:08 || [290/400], train_loss = 33.2146, valid_loss = 6.4423, train_mIoU = 0.6540, val_mIoU = 0.5161, , best mIoU = 0.5161\n",
            "\n",
            "2021-06-15 15:52:15 || [300/400], train_loss = 34.0644, valid_loss = 7.5007, train_mIoU = 0.6516, val_mIoU = 0.5036, , best mIoU = 0.5161\n",
            "\n",
            "2021-06-15 16:03:21 || [310/400], train_loss = 30.8102, valid_loss = 7.5887, train_mIoU = 0.6673, val_mIoU = 0.4758, , best mIoU = 0.5161\n",
            "\n",
            "2021-06-15 16:14:28 || [320/400], train_loss = 31.8829, valid_loss = 8.1349, train_mIoU = 0.6707, val_mIoU = 0.4497, , best mIoU = 0.5161\n",
            "\n",
            "2021-06-15 16:25:35 || [330/400], train_loss = 30.8903, valid_loss = 7.5285, train_mIoU = 0.6724, val_mIoU = 0.4728, , best mIoU = 0.5161\n",
            "\n",
            "2021-06-15 16:36:44 || [340/400], train_loss = 31.3456, valid_loss = 7.7990, train_mIoU = 0.6702, val_mIoU = 0.4742, , best mIoU = 0.5203\n",
            "\n",
            "2021-06-15 16:47:52 || [350/400], train_loss = 29.6293, valid_loss = 6.9694, train_mIoU = 0.6822, val_mIoU = 0.5224, , best mIoU = 0.5224\n",
            "\n",
            "2021-06-15 16:59:00 || [360/400], train_loss = 28.5313, valid_loss = 7.2983, train_mIoU = 0.6895, val_mIoU = 0.5071, , best mIoU = 0.5224\n",
            "\n",
            "2021-06-15 17:10:09 || [370/400], train_loss = 28.9714, valid_loss = 7.0000, train_mIoU = 0.6958, val_mIoU = 0.5005, , best mIoU = 0.5224\n",
            "\n",
            "2021-06-15 17:21:17 || [380/400], train_loss = 26.4083, valid_loss = 7.6106, train_mIoU = 0.7053, val_mIoU = 0.4920, , best mIoU = 0.5338\n",
            "\n",
            "2021-06-15 17:32:24 || [390/400], train_loss = 28.1136, valid_loss = 7.0094, train_mIoU = 0.6962, val_mIoU = 0.4898, , best mIoU = 0.5338\n",
            "\n",
            "2021-06-15 17:42:24 || [399/400], train_loss = 26.0878, valid_loss = 6.9867, train_mIoU = 0.7022, val_mIoU = 0.5137, , best mIoU = 0.5338\n",
            "\n",
            "End of training, elapsed time : 445.0 min 59.49795126914978 sec.\n"
          ],
          "name": "stdout"
        }
      ]
    },
    {
      "cell_type": "markdown",
      "metadata": {
        "id": "LGUO6WEpVoCQ"
      },
      "source": [
        "**12. Save the predicted results for validation dataset.**\n",
        "\n",
        "Also, let's check the validation mIoU."
      ]
    },
    {
      "cell_type": "code",
      "metadata": {
        "colab": {
          "base_uri": "https://localhost:8080/"
        },
        "id": "ZgSf1AjzPxyH",
        "outputId": "5c2c4cbd-df28-4256-e1f4-c5c0d9636f3a"
      },
      "source": [
        "model.eval()\n",
        "mIoU = 0.0\n",
        "total_inter = 0\n",
        "total_union = 0\n",
        "valid_loader_save = torch.utils.data.DataLoader(valid_dataset,\n",
        "                                        batch_size=1,\n",
        "                                        shuffle=False,\n",
        "                                        drop_last=True\n",
        "                                        )\n",
        "\n",
        "for _, (images, labels, filename) in enumerate(valid_loader_save):\n",
        "      images = images.cuda()\n",
        "      labels = labels.cuda()\n",
        "      # Predict the pixel-wise probability map indicating class prediction\n",
        "      pred = model(images)\n",
        "      area_inter, area_union = batch_intersection_union(pred, labels[:, 0, :, :], 9)\n",
        "      total_inter += area_inter\n",
        "      total_union += area_union\n",
        "      labels = color_transform(labels[0]).unsqueeze(0).cuda()\n",
        "      pred = color_transform(pred[0].max(0)[1].unsqueeze(0)).unsqueeze(0).cuda()\n",
        "\n",
        "      # Save the validation results to .png\n",
        "      save_image(images, \"results/validation/{}_img.png\".format(filename[0]))\n",
        "      save_image(pred.float(), \"results/validation/{}_pred.png\".format(filename[0]))\n",
        "      save_image(labels.float(), \"results/validation/{}_label.png\".format(filename[0]))\n",
        "mIoU = (total_inter / total_union).mean().item()\n",
        "print('The final mIoU : {}'.format(mIoU))"
      ],
      "execution_count": null,
      "outputs": [
        {
          "output_type": "stream",
          "text": [
            "/usr/local/lib/python3.7/dist-packages/torch/nn/functional.py:3672: UserWarning: nn.functional.upsample_bilinear is deprecated. Use nn.functional.interpolate instead.\n",
            "  warnings.warn(\"nn.functional.upsample_bilinear is deprecated. Use nn.functional.interpolate instead.\")\n"
          ],
          "name": "stderr"
        },
        {
          "output_type": "stream",
          "text": [
            "The final mIoU : 0.17093853652477264\n"
          ],
          "name": "stdout"
        }
      ]
    },
    {
      "cell_type": "markdown",
      "metadata": {
        "id": "doG5zrHsXPuX"
      },
      "source": [
        "**13. Visualize the sample validation image in the shell.**"
      ]
    },
    {
      "cell_type": "code",
      "metadata": {
        "colab": {
          "base_uri": "https://localhost:8080/",
          "height": 423
        },
        "id": "oBX2ZyIeIHoV",
        "outputId": "ab43bfe8-5db6-433b-ec5e-61f12a242213"
      },
      "source": [
        "training_sample = True\n",
        "\n",
        "if training_sample == True:\n",
        "  (sample_batch, sample_label,_) = next(iter(train_loader))\n",
        "else:\n",
        "  (sample_batch, sample_label,_) = next(iter(valid_loader))\n",
        "\n",
        "\n",
        "index = 9\n",
        "model.eval()\n",
        "sample_batch\n",
        "sample_label\n",
        "sample_output = model(sample_batch.cuda())\n",
        "\n",
        "\n",
        "print(sample_batch[index].size())\n",
        "print(sample_label[index].size())\n",
        "print(sample_output[index].max(0)[1].unsqueeze(0).size())\n",
        "\n",
        "label_one = sample_label[index].squeeze(0)\n",
        "pred_one = sample_output[index].max(0)[1]\n",
        "print(label_one.size(), pred_one.size())\n",
        "with torch.no_grad():\n",
        "    inter, union = batch_intersection_union(sample_output, sample_label[:, 0, :, :].cuda(), 9)\n",
        "    mIoU = (inter / union).mean().item()\n",
        "    print(f\"mIoU : {mIoU}\")\n",
        "\n",
        "fig = plt.figure(figsize=(12, 12))\n",
        "fig.add_subplot(1, 3, 1)\n",
        "plt.imshow(sample_batch[index].permute(1, 2, 0))\n",
        "plt.title(\"Image\")\n",
        "fig.add_subplot(1, 3, 2)\n",
        "plt.imshow(color_transform(sample_label[index]).permute(1, 2, 0))\n",
        "plt.title(\"GT\")\n",
        "print(torch.unique(sample_label[index]))\n",
        "fig.add_subplot(1, 3, 3)\n",
        "plt.imshow(color_transform(pred_one.unsqueeze(0)).permute(1, 2, 0))\n",
        "plt.title(\"Pred\")"
      ],
      "execution_count": null,
      "outputs": [
        {
          "output_type": "stream",
          "text": [
            "torch.Size([3, 128, 128])\n",
            "torch.Size([1, 128, 128])\n",
            "torch.Size([1, 128, 128])\n",
            "torch.Size([128, 128]) torch.Size([128, 128])\n",
            "mIoU : 0.51554274559021\n",
            "tensor([0, 3, 9])\n"
          ],
          "name": "stdout"
        },
        {
          "output_type": "stream",
          "text": [
            "/usr/local/lib/python3.7/dist-packages/torch/nn/functional.py:3672: UserWarning: nn.functional.upsample_bilinear is deprecated. Use nn.functional.interpolate instead.\n",
            "  warnings.warn(\"nn.functional.upsample_bilinear is deprecated. Use nn.functional.interpolate instead.\")\n"
          ],
          "name": "stderr"
        },
        {
          "output_type": "execute_result",
          "data": {
            "text/plain": [
              "Text(0.5, 1.0, 'Pred')"
            ]
          },
          "metadata": {
            "tags": []
          },
          "execution_count": 20
        },
        {
          "output_type": "display_data",
          "data": {
            "image/png": "[encoded data removed]",
            "text/plain": [
              "<Figure size 864x864 with 3 Axes>"
            ]
          },
          "metadata": {
            "tags": [],
            "needs_background": "light"
          }
        }
      ]
    },
    {
      "cell_type": "markdown",
      "metadata": {
        "id": "jTsqbp8rkBsd"
      },
      "source": [
        "**14. Save parameters of the model and the optimizer.**\n",
        "\n",
        "By default, it saves parameters of the latest and best model and optimizer.\n",
        "\n",
        "Following your strategy, you can freely select them by yourself."
      ]
    },
    {
      "cell_type": "code",
      "metadata": {
        "colab": {
          "base_uri": "https://localhost:8080/"
        },
        "id": "7KM0EGsB2EXC",
        "outputId": "1e0992cd-044b-4022-e887-fbe6d3aeacba"
      },
      "source": [
        "if best_model_state is not None and best_optim_state is not None:\n",
        "    torch.save(best_model_state, f\"{filepath}/{experiment}/best_model_state_dict.pt\")\n",
        "    torch.save(best_optim_state, f\"{filepath}/{experiment}/best_optim_state_dict.pt\")\n",
        "    torch.save(latest_model_state, f\"{filepath}/{experiment}/latest_model_state_dict.pt\")\n",
        "    torch.save(latest_optim_state, f\"{filepath}/{experiment}/latest_optim_state_dict.pt\")\n",
        "    print(\"Successfully saved.\")"
      ],
      "execution_count": null,
      "outputs": [
        {
          "output_type": "stream",
          "text": [
            "Successfully saved.\n"
          ],
          "name": "stdout"
        }
      ]
    }
  ]
}